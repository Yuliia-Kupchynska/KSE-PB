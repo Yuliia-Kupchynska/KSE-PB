{
  "nbformat": 4,
  "nbformat_minor": 0,
  "metadata": {
    "colab": {
      "provenance": []
    },
    "kernelspec": {
      "name": "python3",
      "display_name": "Python 3"
    },
    "language_info": {
      "name": "python"
    }
  },
  "cells": [
    {
      "cell_type": "code",
      "execution_count": 4,
      "metadata": {
        "colab": {
          "base_uri": "https://localhost:8080/"
        },
        "id": "1Rk1oWCnUtCE",
        "outputId": "3883fbd0-e814-499b-c0b0-ae576e88529c"
      },
      "outputs": [
        {
          "name": "stdout",
          "output_type": "stream",
          "text": [
            "Введіть число:5\n"
          ]
        }
      ],
      "source": [
        "number = int(input(\"Введіть число:\"))\n",
        "if number %2 == 0:\n",
        "  print(\"Парне\")\n"
      ]
    },
    {
      "cell_type": "code",
      "source": [
        "grade = float(input(\"Введіть середній бал:\"))\n",
        "\n",
        "if grade > 90:\n",
        "  print(\"Відмінник\")\n",
        "elif grade > 75:\n",
        "  print(\"Молодець\")\n",
        "else:\n",
        "  print(\"Старайся більше\")"
      ],
      "metadata": {
        "colab": {
          "base_uri": "https://localhost:8080/"
        },
        "id": "ovPtm9GgUxwM",
        "outputId": "85e83f5d-b30b-4fbe-c46f-e8818ca777a1"
      },
      "execution_count": 6,
      "outputs": [
        {
          "output_type": "stream",
          "name": "stdout",
          "text": [
            "Введіть середній бал:75.5\n",
            "Молодець\n"
          ]
        }
      ]
    },
    {
      "cell_type": "code",
      "source": [
        "for price in range(10,100,5):\n",
        "  price_tax = price*1.2\n",
        "  print(f\"Ціна без ПДВ {price}-> Ціна з ПДВ {price_tax}\")\n",
        ""
      ],
      "metadata": {
        "colab": {
          "base_uri": "https://localhost:8080/"
        },
        "id": "K2pX0r38XxQD",
        "outputId": "c832dc33-316c-430c-ecd8-3d00110876bb"
      },
      "execution_count": 8,
      "outputs": [
        {
          "output_type": "stream",
          "name": "stdout",
          "text": [
            "Ціна без ПДВ 10-> Ціна з ПДВ 12.0\n",
            "Ціна без ПДВ 15-> Ціна з ПДВ 18.0\n",
            "Ціна без ПДВ 20-> Ціна з ПДВ 24.0\n",
            "Ціна без ПДВ 25-> Ціна з ПДВ 30.0\n",
            "Ціна без ПДВ 30-> Ціна з ПДВ 36.0\n",
            "Ціна без ПДВ 35-> Ціна з ПДВ 42.0\n",
            "Ціна без ПДВ 40-> Ціна з ПДВ 48.0\n",
            "Ціна без ПДВ 45-> Ціна з ПДВ 54.0\n",
            "Ціна без ПДВ 50-> Ціна з ПДВ 60.0\n",
            "Ціна без ПДВ 55-> Ціна з ПДВ 66.0\n",
            "Ціна без ПДВ 60-> Ціна з ПДВ 72.0\n",
            "Ціна без ПДВ 65-> Ціна з ПДВ 78.0\n",
            "Ціна без ПДВ 70-> Ціна з ПДВ 84.0\n",
            "Ціна без ПДВ 75-> Ціна з ПДВ 90.0\n",
            "Ціна без ПДВ 80-> Ціна з ПДВ 96.0\n",
            "Ціна без ПДВ 85-> Ціна з ПДВ 102.0\n",
            "Ціна без ПДВ 90-> Ціна з ПДВ 108.0\n",
            "Ціна без ПДВ 95-> Ціна з ПДВ 114.0\n"
          ]
        }
      ]
    },
    {
      "cell_type": "code",
      "source": [
        "a = input(\"Число 1:\")\n",
        "b = input(\"Число 2:\")\n",
        "c = input(\"Число 3:\")\n",
        "\n",
        "if a > b:\n",
        "  if a > c:\n",
        "    print(f\"{a}\")\n",
        "  else:\n",
        "    print(f\"{c}\")\n",
        "else:\n",
        "  if c > b:\n",
        "    print(f\"{c}\")\n",
        "  else:\n",
        "    print(f\"{b}\")"
      ],
      "metadata": {
        "colab": {
          "base_uri": "https://localhost:8080/"
        },
        "id": "L91zpoVTY24E",
        "outputId": "c94435b4-bcf8-4b88-efcb-042f07b432de"
      },
      "execution_count": 10,
      "outputs": [
        {
          "output_type": "stream",
          "name": "stdout",
          "text": [
            "Число 1:81\n",
            "Число 2:32\n",
            "Число 3:89\n",
            "89\n"
          ]
        }
      ]
    },
    {
      "cell_type": "code",
      "source": [
        "x = 1000\n",
        "i = 0\n",
        "while x < 5000:\n",
        "  i +=1\n",
        "  x += 300\n",
        "  print(f\"Місяць {i} - {x}грн\")"
      ],
      "metadata": {
        "colab": {
          "base_uri": "https://localhost:8080/"
        },
        "id": "jLEjWnSjabJ3",
        "outputId": "c3b41515-8f7e-4186-f2ea-877934ec7047"
      },
      "execution_count": 12,
      "outputs": [
        {
          "output_type": "stream",
          "name": "stdout",
          "text": [
            "Місяць 1 - 1300грн\n",
            "Місяць 2 - 1600грн\n",
            "Місяць 3 - 1900грн\n",
            "Місяць 4 - 2200грн\n",
            "Місяць 5 - 2500грн\n",
            "Місяць 6 - 2800грн\n",
            "Місяць 7 - 3100грн\n",
            "Місяць 8 - 3400грн\n",
            "Місяць 9 - 3700грн\n",
            "Місяць 10 - 4000грн\n",
            "Місяць 11 - 4300грн\n",
            "Місяць 12 - 4600грн\n",
            "Місяць 13 - 4900грн\n",
            "Місяць 14 - 5200грн\n"
          ]
        }
      ]
    },
    {
      "cell_type": "code",
      "source": [
        "year = int(input(\"Введіть рік:\"))\n",
        "if year%4 == 0 and year%100 != 0 or year%400 == 0:\n",
        "  print(\"Високосний\")\n",
        "else:\n",
        "  print(\"Звичайний рік\")"
      ],
      "metadata": {
        "colab": {
          "base_uri": "https://localhost:8080/"
        },
        "id": "jCZTD7Z3bhPt",
        "outputId": "52158c93-1e56-4147-c1c3-41d18ffcf471"
      },
      "execution_count": 13,
      "outputs": [
        {
          "output_type": "stream",
          "name": "stdout",
          "text": [
            "Введіть рік:2012\n",
            "Високосний\n"
          ]
        }
      ]
    },
    {
      "cell_type": "code",
      "source": [
        "x = 0\n",
        "while x < 21:\n",
        "  x += 1\n",
        "  if x == 4:\n",
        "    continue\n",
        "  print(x)"
      ],
      "metadata": {
        "colab": {
          "base_uri": "https://localhost:8080/"
        },
        "id": "3cTE_hhlchth",
        "outputId": "3d4b3646-0b3c-44e8-e292-9acd41164669"
      },
      "execution_count": 14,
      "outputs": [
        {
          "output_type": "stream",
          "name": "stdout",
          "text": [
            "1\n",
            "2\n",
            "3\n",
            "5\n",
            "6\n",
            "7\n",
            "8\n",
            "9\n",
            "10\n",
            "11\n",
            "12\n",
            "13\n",
            "14\n",
            "15\n",
            "16\n",
            "17\n",
            "18\n",
            "19\n",
            "20\n",
            "21\n"
          ]
        }
      ]
    },
    {
      "cell_type": "code",
      "source": [
        "x = 10000\n",
        "month = 0\n",
        "while x >= 0:\n",
        "  month += 1\n",
        "  x -= 1200\n",
        "  x = round(x*1.02,2)\n",
        "\n",
        "  if x > 0:\n",
        "    print(f\"Місяць: {month}.\\nЗалишок боргу: {x}\\n\")\n",
        "  else:\n",
        "    print(f\"Місяць: {month}.\\nЗалишок боргу: 0\\n\")"
      ],
      "metadata": {
        "colab": {
          "base_uri": "https://localhost:8080/"
        },
        "id": "_eHixyczdPsd",
        "outputId": "2b519b20-6b7b-48eb-f61e-d604471ccc8d"
      },
      "execution_count": 19,
      "outputs": [
        {
          "output_type": "stream",
          "name": "stdout",
          "text": [
            "Місяць: 1.\n",
            "Залишок боргу: 8976.0\n",
            "\n",
            "Місяць: 2.\n",
            "Залишок боргу: 7931.52\n",
            "\n",
            "Місяць: 3.\n",
            "Залишок боргу: 6866.15\n",
            "\n",
            "Місяць: 4.\n",
            "Залишок боргу: 5779.47\n",
            "\n",
            "Місяць: 5.\n",
            "Залишок боргу: 4671.06\n",
            "\n",
            "Місяць: 6.\n",
            "Залишок боргу: 3540.48\n",
            "\n",
            "Місяць: 7.\n",
            "Залишок боргу: 2387.29\n",
            "\n",
            "Місяць: 8.\n",
            "Залишок боргу: 1211.04\n",
            "\n",
            "Місяць: 9.\n",
            "Залишок боргу: 11.26\n",
            "\n",
            "Місяць: 10.\n",
            "Залишок боргу: 0\n",
            "\n"
          ]
        }
      ]
    },
    {
      "cell_type": "code",
      "source": [
        "total_income = 0\n",
        "while True:\n",
        "  income = float(input(\"Ваш місячний дохід:\"))\n",
        "  if income == 0:\n",
        "    break\n",
        "  elif income <= 0:\n",
        "      print(\"Дохід не може бути від'ємним\")\n",
        "      continue\n",
        "  else:\n",
        "    total_income += income\n",
        "    print(f\"Ваш дохід збережено.\\nСукупний дохід: {total_income}\")\n",
        ""
      ],
      "metadata": {
        "colab": {
          "base_uri": "https://localhost:8080/"
        },
        "id": "MktIOPlKfIId",
        "outputId": "cdff629c-8845-469d-ba7e-729f385bc87b"
      },
      "execution_count": 4,
      "outputs": [
        {
          "name": "stdout",
          "output_type": "stream",
          "text": [
            "Ваш місячний дохід:500\n",
            "Ваш дохід збережено.\n",
            "Сукупний дохід: 500.0\n",
            "Ваш місячний дохід:700\n",
            "Ваш дохід збережено.\n",
            "Сукупний дохід: 1200.0\n",
            "Ваш місячний дохід:1.1\n",
            "Ваш дохід збережено.\n",
            "Сукупний дохід: 1201.1\n",
            "Ваш місячний дохід:-60\n",
            "Дохід не може бути від'ємним\n",
            "Ваш місячний дохід:0\n"
          ]
        }
      ]
    }
  ]
}