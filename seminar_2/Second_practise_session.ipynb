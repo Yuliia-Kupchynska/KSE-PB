{
  "nbformat": 4,
  "nbformat_minor": 0,
  "metadata": {
    "colab": {
      "provenance": []
    },
    "kernelspec": {
      "name": "python3",
      "display_name": "Python 3"
    },
    "language_info": {
      "name": "python"
    }
  },
  "cells": [
    {
      "cell_type": "code",
      "execution_count": 3,
      "metadata": {
        "id": "xTHOWb2aaSq9"
      },
      "outputs": [],
      "source": [
        "bool1 = True\n",
        "bool2 = False\n",
        "str1 = \"True\"\n",
        "str2 = \"False\"\n",
        "int1 = 1\n",
        "int2 = 0\n",
        "float1 = 1.1\n",
        "tuple1 = (1,2,3)\n",
        "set1 = {1,2,3}\n",
        "none1 = None"
      ]
    },
    {
      "cell_type": "code",
      "source": [
        "a = 1\n",
        "b = 2\n",
        "c = b\n",
        "d = a\n",
        "a = c\n",
        "b = d\n",
        "print(f\"a={a}, b={b} \")"
      ],
      "metadata": {
        "colab": {
          "base_uri": "https://localhost:8080/"
        },
        "id": "tvEMr8SDaTrE",
        "outputId": "d8c2735e-1d41-499d-e9ea-905959899e9b"
      },
      "execution_count": 4,
      "outputs": [
        {
          "output_type": "stream",
          "name": "stdout",
          "text": [
            "a=2, b=1 \n"
          ]
        }
      ]
    },
    {
      "cell_type": "code",
      "source": [
        "x = 3\n",
        "y = 9\n",
        "res1 = 2*x+3*y\n",
        "res2 = x**2+2*x*y+y**2\n",
        "res3 = (2/8)*x-(13/7)*y\n",
        "res4 = y**((4*x-2*y)**(1/2))\n",
        "print(f\"{res1},{res2},{res3},{res4}\")"
      ],
      "metadata": {
        "colab": {
          "base_uri": "https://localhost:8080/"
        },
        "id": "l0q5YFUacwux",
        "outputId": "233888a2-7703-4bb2-e53d-eab2658fdab1"
      },
      "execution_count": 9,
      "outputs": [
        {
          "output_type": "stream",
          "name": "stdout",
          "text": [
            "33,144,-15.964285714285715,(0.6207430386497654-0.784014081485694j)\n"
          ]
        }
      ]
    },
    {
      "cell_type": "code",
      "source": [
        "name = 'Gyat'\n",
        "price = 99999\n",
        "gyat_marketplace = f\"{name} дорівнює {price} гривень\"\n",
        "print(f\"{gyat_marketplace}\")"
      ],
      "metadata": {
        "colab": {
          "base_uri": "https://localhost:8080/"
        },
        "id": "CdSujnUxeCCQ",
        "outputId": "062077a8-cd75-45c8-a26c-a33546cf6937"
      },
      "execution_count": 13,
      "outputs": [
        {
          "output_type": "stream",
          "name": "stdout",
          "text": [
            "gyat дорівнює 99999 гривень\n"
          ]
        }
      ]
    },
    {
      "cell_type": "code",
      "source": [
        "x1=1\n",
        "x2=2\n",
        "x3=3\n",
        "x4=4\n",
        "check_this = ((x1>x3) or (x2>x4)) and ((x2!=x3) or (x1!=x4))\n",
        "\n",
        "print(check_this)"
      ],
      "metadata": {
        "colab": {
          "base_uri": "https://localhost:8080/"
        },
        "id": "hejU-7LZe1dF",
        "outputId": "71b932b1-ba3b-46ff-ad40-354f947a0ced"
      },
      "execution_count": 15,
      "outputs": [
        {
          "output_type": "stream",
          "name": "stdout",
          "text": [
            "False\n"
          ]
        }
      ]
    },
    {
      "cell_type": "code",
      "source": [
        "height = float(input(\"Введіть свій зріст (м) ( ͡° ͜ʖ ͡°)\"))\n",
        "weigh = float(input(\"Введіть свою вагу (кг) (。≖ˇ∀ˇ≖。)\"))\n",
        "bmi = weigh/(height**2)\n",
        "rounded_bmi = f\"{bmi:.2f}\"\n",
        "print(f\"При вазі {weigh}кг і зрості {height}см Ваш BMI складає {rounded_bmi}! ☜(˚▽˚)☞\")"
      ],
      "metadata": {
        "colab": {
          "base_uri": "https://localhost:8080/"
        },
        "id": "FnBtwKA8g036",
        "outputId": "91f4c8ad-bb02-48c2-d8f5-904e5bb0d970"
      },
      "execution_count": 36,
      "outputs": [
        {
          "output_type": "stream",
          "name": "stdout",
          "text": [
            "Введіть свій зріст (м) ( ͡° ͜ʖ ͡°)1.74\n",
            "Введіть свою вагу (кг) (。≖ˇ∀ˇ≖。)52\n",
            "При вазі 52.0кг і зрості 1.74см Ваш BMI складає 17.18! ☜(˚▽˚)☞\n"
          ]
        }
      ]
    },
    {
      "cell_type": "code",
      "source": [
        "area1 = 3.14*(0.3**2)\n",
        "area2 = 3.14*(0.363**2)\n",
        "diff = (area2/(area1/100)-100)\n",
        "formatted = f\"{diff:.2f}\"\n",
        "print(f\"Друга піца на {formatted}% більша за першу.\")"
      ],
      "metadata": {
        "colab": {
          "base_uri": "https://localhost:8080/"
        },
        "id": "CTimJtesjd01",
        "outputId": "874712f9-ae31-4084-b741-b76c4712573b"
      },
      "execution_count": 32,
      "outputs": [
        {
          "output_type": "stream",
          "name": "stdout",
          "text": [
            "Друга піца на 46.41% більша за першу.\n"
          ]
        }
      ]
    }
  ]
}